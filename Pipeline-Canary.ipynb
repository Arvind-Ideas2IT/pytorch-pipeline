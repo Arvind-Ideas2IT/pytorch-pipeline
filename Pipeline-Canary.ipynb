{
 "cells": [
  {
   "cell_type": "markdown",
   "metadata": {},
   "source": [
    "# Load packages"
   ]
  },
  {
   "cell_type": "code",
   "execution_count": 210,
   "metadata": {},
   "outputs": [],
   "source": [
    "import kfp\n",
    "from kfp import components\n",
    "from kfp.components import load_component_from_file, load_component_from_url\n",
    "from kfp import dsl\n",
    "from kfp import compiler"
   ]
  },
  {
   "cell_type": "markdown",
   "metadata": {},
   "source": [
    "# Enter your gateway loadbalancer and the token from the cookie\n",
    "[Use this extension on chrome to get token]( https://chrome.google.com/webstore/detail/editthiscookie/fngmhnnpilhplaeedifhccceomclgfbg?hl=en)\n",
    "\n",
    "![image.png](./image.png)"
   ]
  },
  {
   "cell_type": "code",
   "execution_count": 211,
   "metadata": {},
   "outputs": [],
   "source": [
    "#Update values for the load balancer and auth session\n",
    "URL='<your-load-balancer-url>'\n",
    "AUTH=\"authservice_session=<Key>\"\n",
    "namespace=\"admin\""
   ]
  },
  {
   "cell_type": "code",
   "execution_count": 122,
   "metadata": {},
   "outputs": [
    {
     "data": {
      "text/plain": [
       "{'created_at': datetime.datetime(2021, 2, 22, 10, 16, 13, tzinfo=tzlocal()),\n",
       " 'description': None,\n",
       " 'id': 'bc05a15c-5ac6-4cdf-935b-7a6451089d2c',\n",
       " 'name': 'sample',\n",
       " 'resource_references': [{'key': {'id': 'admin', 'type': 'NAMESPACE'},\n",
       "                          'name': None,\n",
       "                          'relationship': 'OWNER'}],\n",
       " 'storage_state': 'STORAGESTATE_AVAILABLE'}"
      ]
     },
     "execution_count": 122,
     "metadata": {},
     "output_type": "execute_result"
    }
   ],
   "source": [
    "client = kfp.Client(host=URL+\"/pipeline\", cookies=AUTH)\n",
    "experiments = client.list_experiments(namespace=namespace)\n",
    "my_experiment = experiments.experiments[0]\n",
    "my_experiment"
   ]
  },
  {
   "cell_type": "markdown",
   "metadata": {},
   "source": [
    "### Using dsl for model archiver and torchserve integration\n",
    "#### Init container is used for mar file generation"
   ]
  },
  {
   "cell_type": "code",
   "execution_count": 123,
   "metadata": {},
   "outputs": [],
   "source": [
    "VOLUME_NAME = \"pvcm\"\n",
    "DEPLOY=\"torchserve-bert\"\n",
    "MODEL=\"bert\""
   ]
  },
  {
   "cell_type": "code",
   "execution_count": 215,
   "metadata": {},
   "outputs": [],
   "source": [
    "bert_data_prep_op = components.load_component_from_file(\n",
    "    \"./pytorch/data_prep/component.yaml\"\n",
    ")\n",
    "\n",
    "bert_train_op = components.load_component_from_file(\n",
    "    \"./pytorch/train/component.yaml\"\n",
    ")\n",
    "\n",
    "mar_op = load_component_from_file(\"./model_archive/component.yaml\")\n",
    "deploy_op = load_component_from_file(\"./deploy/component.yaml\")\n",
    "\n",
    "@dsl.pipeline(name=\"Training pipeline\", description=\"Sample training job test\")\n",
    "def pytorch_bert():\n",
    "\n",
    "\n",
    "    vop = dsl.VolumeOp(\n",
    "        name=volume_name,\n",
    "        resource_name=volume_name,\n",
    "        modes=dsl.VOLUME_MODE_RWO,\n",
    "        size=\"10Gi\"\n",
    "    )\n",
    "\n",
    "    @dsl.component\n",
    "    def download(url: str, output_path:str):\n",
    "        return dsl.ContainerOp(\n",
    "            name='Download',\n",
    "            image='busybox:latest',\n",
    "            command=[\"sh\", \"-c\"],\n",
    "            arguments=[\"mkdir -p %s; wget %s -P %s\" % (output_path, url, output_path)],\n",
    "        )\n",
    "\n",
    "    @dsl.component\n",
    "    def copy_contents(input_dir: str, output_dir:str):\n",
    "        return dsl.ContainerOp(\n",
    "            name='Copy',\n",
    "            image='busybox:latest',\n",
    "            command=[\"cp\", \"-R\", \"%s/.\" % input_dir, \"%s\" % output_dir],            \n",
    "        )\n",
    "\n",
    "    @dsl.component\n",
    "    def mkdir(input_dir: str):\n",
    "        return dsl.ContainerOp(\n",
    "            name='mkdir',\n",
    "            image='busybox:latest',\n",
    "            command=[\"mkdir\", \"-p\", \"%s\" % input_dir],            \n",
    "        )\n",
    "\n",
    "    @dsl.component\n",
    "    def ls(input_dir: str):\n",
    "        return dsl.ContainerOp(\n",
    "            name='list',\n",
    "            image='busybox:latest',\n",
    "            command=[\"ls\", \"-R\", \"%s\" % input_dir]\n",
    "        )\n",
    "\n",
    "    prep_output = bert_data_prep_op(\n",
    "        input_data =\n",
    "            [{\"dataset_url\":\"https://kubeflow-dataset.s3.us-east-2.amazonaws.com/ag_news_csv.tar.gz\"}],\n",
    "        container_entrypoint = [\n",
    "            \"python\",\n",
    "            \"/pvc/input/bert_pre_process.py\",\n",
    "        ],\n",
    "        output_data = [\"/pvc/output/processing\"],\n",
    "        source_code = [\"https://kubeflow-dataset.s3.us-east-2.amazonaws.com/bert_pre_process.py\"],\n",
    "        source_code_path = [\"/pvc/input\"]\n",
    "    ).add_pvolumes({\"/pvc\":vop.volume})\n",
    "\n",
    "    train_output = bert_train_op(\n",
    "        input_data = [\"/pvc/output/processing\"],\n",
    "        container_entrypoint = [\n",
    "            \"python\",\n",
    "            \"/pvc/input/bert_train.py\",\n",
    "        ],\n",
    "        output_data = [\"/pvc/output/train/models\"],\n",
    "        input_parameters = [{\"tensorboard_root\": \"/pvc/output/train/tensorboard\", \n",
    "        \"max_epochs\": 1, \"num_samples\": 150, \"batch_size\": 4, \"num_workers\": 1, \"learning_rate\": 0.001, \n",
    "        \"accelerator\": None}],\n",
    "        source_code = [\"https://kubeflow-dataset.s3.us-east-2.amazonaws.com/bert_datamodule.py\", \"https://kubeflow-dataset.s3.us-east-2.amazonaws.com/bert_train.py\"],\n",
    "        source_code_path = [\"/pvc/input\"]\n",
    "    ).add_pvolumes({\"/pvc\":vop.volume}).after(prep_output)\n",
    "\n",
    "    list_input = ls(\"/pvc/output\").add_pvolumes({\"/pvc\":vop.volume}).after(train_output)\n",
    "\n",
    "    properties = download(url='https://kubeflow-dataset.s3.us-east-2.amazonaws.com/model_archive/bert/properties.json', output_path=\"/pv/input\").add_pvolumes({\"/pv\":vop.volume}).after(vop)\n",
    "    requirements = download(url='https://kubeflow-dataset.s3.us-east-2.amazonaws.com/model_archive/bert/requirements.txt', output_path=\"/pv/input\").add_pvolumes({\"/pv\":vop.volume}).after(vop)\n",
    "    extrafile = download(url='https://kubeflow-dataset.s3.us-east-2.amazonaws.com/model_archive/bert/index_to_name.json', output_path=\"/pv/input\").add_pvolumes({\"/pv\":vop.volume}).after(vop)\n",
    "    vocabfile = download(url='https://kubeflow-dataset.s3.us-east-2.amazonaws.com/model_archive/bert/bert-base-uncased-vocab.txt', output_path=\"/pv/input\").add_pvolumes({\"/pv\":vop.volume}).after(vop)\n",
    "    handlerfile = download(url='https://kubeflow-dataset.s3.us-east-2.amazonaws.com/model_archive/bert/bert_handler.py', output_path=\"/pv/input\").add_pvolumes({\"/pv\":vop.volume}).after(vop)\n",
    "\n",
    "    copy_files = copy_contents(input_dir=\"/pvc/output/train/models\", output_dir=\"/pvc/input\").add_pvolumes({\"/pvc\":vop.volume}).after(train_output)\n",
    "    list_input = ls(\"/pvc/input\").add_pvolumes({\"/pvc\":vop.volume}).after(copy_files)\n",
    "\n",
    "    mar_task = mar_op(\n",
    "        input_dir=\"/pvc/input\",\n",
    "        output_dir=\"/pvc/output\",\n",
    "        handlerfile=\"image_classifier\").add_pvolumes({\"/pvc\":vop.volume}).after(list_input)\n",
    "\n",
    "    list_output = ls(\"/pvc/output\").add_pvolumes({\"/pvc\":vop.volume}).after(mar_task)\n",
    "\n",
    "    production = deploy_op(\n",
    "        action=\"apply\",\n",
    "        model_name=\"%s\" % model_name,\n",
    "        model_uri=\"pvc://{{workflow.name}}-%s/output\" % volume_name,\n",
    "        namespace=\"%s\" % namespace,\n",
    "        framework='pytorch'\n",
    "    ).add_pvolumes({\"/pvc\":vop.volume}).after(list_output)\n",
    "    \n",
    "#   Below two lines are for canary deployment (we use same model for canary testing)\n",
    "    mkdir_canary = mkdir(input_dir=\"/pvc/canary/output\").add_pvolumes({\"/pvc\":vop.volume}).after(vop)\n",
    "    canary_model = copy_contents(input_dir=\"/pvc/output\", output_dir=\"/pvc/canary/output\").add_pvolumes({\"/pvc\":vop.volume}).after(mar_task)\n",
    "\n",
    "#   Canary Deployment\n",
    "    canary = deploy_op(\n",
    "        action=\"apply\",\n",
    "        model_name=\"%s\" % model_name,\n",
    "        model_uri=\"pvc://{{workflow.name}}-%s/canary/output\" % volume_name,\n",
    "        namespace=\"%s\" % namespace,\n",
    "        canary_traffic_percent=\"20\",\n",
    "        framework='pytorch'\n",
    "    ).add_pvolumes({\"/pvc\":vop.volume}).after(canary_model)"
   ]
  },
  {
   "cell_type": "code",
   "execution_count": 216,
   "metadata": {},
   "outputs": [],
   "source": [
    "# Compile pipeline\n",
    "compiler.Compiler().compile(pytorch_bert, 'pytorch.tar.gz', type_check=True)"
   ]
  },
  {
   "cell_type": "code",
   "execution_count": 217,
   "metadata": {},
   "outputs": [
    {
     "data": {
      "text/html": [
       "Run link <a href=\"http://ad7fc227388c3431f9c778285d481334-127942271.us-west-2.elb.amazonaws.com/pipeline/#/runs/details/681d60ab-f6aa-4708-9a57-8c034b26294f\" target=\"_blank\" >here</a>"
      ],
      "text/plain": [
       "<IPython.core.display.HTML object>"
      ]
     },
     "metadata": {},
     "output_type": "display_data"
    }
   ],
   "source": [
    "# Execute pipeline\n",
    "run = client.run_pipeline(my_experiment.id, 'pytorch-bert', 'pytorch.tar.gz')"
   ]
  },
  {
   "cell_type": "markdown",
   "metadata": {},
   "source": [
    "### Wait for inference service below to go to `READY True` state."
   ]
  },
  {
   "cell_type": "code",
   "execution_count": 204,
   "metadata": {},
   "outputs": [
    {
     "name": "stdout",
     "output_type": "stream",
     "text": [
      "NAME              URL   READY   PREV   LATEST   PREVROLLEDOUTREVISION   LATESTREADYREVISION                       AGE\n",
      "torchserve-bert         False          100                              torchserve-bert-predictor-default-mdhs6   3m52s\n"
     ]
    }
   ],
   "source": [
    "!kubectl get isvc $DEPLOY"
   ]
  },
  {
   "cell_type": "markdown",
   "metadata": {},
   "source": [
    "# Inference"
   ]
  },
  {
   "cell_type": "code",
   "execution_count": 203,
   "metadata": {},
   "outputs": [],
   "source": [
    "!kubectl get isvc $DEPLOY -o jsonpath='{.items[0].status.url}' | cut -d \"/\" -f 3"
   ]
  },
  {
   "cell_type": "code",
   "execution_count": 202,
   "metadata": {},
   "outputs": [
    {
     "ename": "IndexError",
     "evalue": "list index out of range",
     "output_type": "error",
     "traceback": [
      "\u001b[0;31m---------------------------------------------------------------------------\u001b[0m",
      "\u001b[0;31mIndexError\u001b[0m                                Traceback (most recent call last)",
      "\u001b[0;32m<ipython-input-202-97dcd2dcaa38>\u001b[0m in \u001b[0;36m<module>\u001b[0;34m\u001b[0m\n\u001b[1;32m      1\u001b[0m \u001b[0mS_HOSTNAME\u001b[0m\u001b[0;34m=\u001b[0m\u001b[0mget_ipython\u001b[0m\u001b[0;34m(\u001b[0m\u001b[0;34m)\u001b[0m\u001b[0;34m.\u001b[0m\u001b[0mgetoutput\u001b[0m\u001b[0;34m(\u001b[0m\u001b[0;34m'kubectl get isvc $DEPLOY  -o jsonpath=\\'{.items[0].status.url}\\' | cut -d \"/\" -f 3'\u001b[0m\u001b[0;34m)\u001b[0m\u001b[0;34m\u001b[0m\u001b[0;34m\u001b[0m\u001b[0m\n\u001b[0;32m----> 2\u001b[0;31m \u001b[0mSERVICE_HOSTNAME\u001b[0m\u001b[0;34m=\u001b[0m\u001b[0mS_HOSTNAME\u001b[0m\u001b[0;34m[\u001b[0m\u001b[0;36m0\u001b[0m\u001b[0;34m]\u001b[0m\u001b[0;34m\u001b[0m\u001b[0;34m\u001b[0m\u001b[0m\n\u001b[0m\u001b[1;32m      3\u001b[0m \u001b[0mSERVICE_HOSTNAME\u001b[0m\u001b[0;34m\u001b[0m\u001b[0;34m\u001b[0m\u001b[0m\n",
      "\u001b[0;31mIndexError\u001b[0m: list index out of range"
     ]
    }
   ],
   "source": [
    "S_HOSTNAME=!kubectl get isvc $DEPLOY  -o jsonpath='{.items[0].status.url}' | cut -d \"/\" -f 3\n",
    "SERVICE_HOSTNAME=S_HOSTNAME[0]\n",
    "SERVICE_HOSTNAME"
   ]
  },
  {
   "cell_type": "markdown",
   "metadata": {},
   "source": [
    "# Prediction"
   ]
  },
  {
   "cell_type": "code",
   "execution_count": 199,
   "metadata": {},
   "outputs": [
    {
     "name": "stdout",
     "output_type": "stream",
     "text": [
      "*   Trying 52.43.180.253...\n",
      "* TCP_NODELAY set\n",
      "* Connected to ad7fc227388c3431f9c778285d481334-127942271.us-west-2.elb.amazonaws.com (52.43.180.253) port 80 (#0)\n",
      "> POST /v1/models/bert:predict HTTP/1.1\n",
      "> Host: error: error executing jsonpath {.items[0].status.url}: Error executing template: array index out of bounds: index 0, length 0. Printing more information for debugging the template:\n",
      "> User-Agent: curl/7.58.0\n",
      "> Accept: */*\n",
      "> Cookie: authservice_session=MTYxNTk3MDU1OHxOd3dBTkZGRVIxcFNOMUZEVGxGTlFVd3pXRUZRTkVOQ1JsbFROVUZGUkVjM1RGRXpTbGhaVVVwUVQxVTJSbFl6UWtoU1VrNUdUMUU9fEqY1QCbQAToNhQAqHwFfhh_pwhDDySKeKLlP8ttId77\n",
      "> Content-Length: 84\n",
      "> Content-Type: application/x-www-form-urlencoded\n",
      "> \n",
      "* upload completely sent off: 84 out of 84 bytes\n",
      "< HTTP/1.1 400 Bad Request\n",
      "< date: Wed, 17 Mar 2021 11:59:34 GMT\n",
      "< server: istio-envoy\n",
      "< connection: close\n",
      "< content-length: 0\n",
      "< \n",
      "* Closing connection 0\n"
     ]
    }
   ],
   "source": [
    "!curl -v -H \"Host: $SERVICE_HOSTNAME\" -H \"Cookie: $AUTH\" \"$URL/v1/models/$MODEL:predict\" -d @./sample.txt"
   ]
  },
  {
   "cell_type": "markdown",
   "metadata": {},
   "source": [
    "# Check canary revisions\n",
    "### Run below command in shell"
   ]
  },
  {
   "cell_type": "code",
   "execution_count": null,
   "metadata": {},
   "outputs": [],
   "source": [
    "!kubectl get revisions -l serving.kubeflow.org/inferenceservice=$DEPLOY"
   ]
  }
 ],
 "metadata": {
  "kernelspec": {
   "display_name": "Python 3",
   "language": "python",
   "name": "python3"
  },
  "language_info": {
   "codemirror_mode": {
    "name": "ipython",
    "version": 3
   },
   "file_extension": ".py",
   "mimetype": "text/x-python",
   "name": "python",
   "nbconvert_exporter": "python",
   "pygments_lexer": "ipython3",
   "version": "3.6.9"
  }
 },
 "nbformat": 4,
 "nbformat_minor": 4
}
