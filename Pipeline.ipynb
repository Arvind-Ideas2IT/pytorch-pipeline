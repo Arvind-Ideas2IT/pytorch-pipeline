{
 "cells": [
  {
   "cell_type": "code",
   "execution_count": 15,
   "metadata": {},
   "outputs": [],
   "source": [
    "import kfp\n",
    "\n",
    "from kfp.components import load_component_from_file, load_component_from_url\n",
    "from kfp import dsl\n",
    "from kfp import compiler"
   ]
  },
  {
   "cell_type": "code",
   "execution_count": 20,
   "metadata": {},
   "outputs": [
    {
     "data": {
      "text/plain": [
       "{'experiments': [{'created_at': datetime.datetime(2021, 2, 10, 13, 41, 52, tzinfo=tzlocal()),\n",
       "                  'description': None,\n",
       "                  'id': 'bdeff48a-9724-4946-91f0-75f7f6f27552',\n",
       "                  'name': 'test',\n",
       "                  'resource_references': [{'key': {'id': 'admin',\n",
       "                                                   'type': 'NAMESPACE'},\n",
       "                                           'name': None,\n",
       "                                           'relationship': 'OWNER'}],\n",
       "                  'storage_state': 'STORAGESTATE_AVAILABLE'},\n",
       "                 {'created_at': datetime.datetime(2021, 2, 11, 6, 2, 7, tzinfo=tzlocal()),\n",
       "                  'description': None,\n",
       "                  'id': '08aa6c17-897f-4e38-8064-9b0ca4a6708f',\n",
       "                  'name': 'sample',\n",
       "                  'resource_references': [{'key': {'id': 'admin',\n",
       "                                                   'type': 'NAMESPACE'},\n",
       "                                           'name': None,\n",
       "                                           'relationship': 'OWNER'}],\n",
       "                  'storage_state': 'STORAGESTATE_AVAILABLE'},\n",
       "                 {'created_at': datetime.datetime(2021, 2, 17, 6, 15, 14, tzinfo=tzlocal()),\n",
       "                  'description': None,\n",
       "                  'id': '9eefb10b-1d15-4e81-a144-49b4290af44e',\n",
       "                  'name': 'BERT-TESTING',\n",
       "                  'resource_references': [{'key': {'id': 'admin',\n",
       "                                                   'type': 'NAMESPACE'},\n",
       "                                           'name': None,\n",
       "                                           'relationship': 'OWNER'}],\n",
       "                  'storage_state': 'STORAGESTATE_ARCHIVED'},\n",
       "                 {'created_at': datetime.datetime(2021, 2, 17, 6, 22, 47, tzinfo=tzlocal()),\n",
       "                  'description': None,\n",
       "                  'id': 'a10a8dd1-905c-4366-8a47-65967ff0025f',\n",
       "                  'name': 'bert test',\n",
       "                  'resource_references': [{'key': {'id': 'admin',\n",
       "                                                   'type': 'NAMESPACE'},\n",
       "                                           'name': None,\n",
       "                                           'relationship': 'OWNER'}],\n",
       "                  'storage_state': 'STORAGESTATE_ARCHIVED'},\n",
       "                 {'created_at': datetime.datetime(2021, 2, 19, 16, 45, 41, tzinfo=tzlocal()),\n",
       "                  'description': None,\n",
       "                  'id': '9b0390ee-a3cf-4070-afdf-1c1b7392cb8b',\n",
       "                  'name': 'demo',\n",
       "                  'resource_references': [{'key': {'id': 'admin',\n",
       "                                                   'type': 'NAMESPACE'},\n",
       "                                           'name': None,\n",
       "                                           'relationship': 'OWNER'}],\n",
       "                  'storage_state': 'STORAGESTATE_AVAILABLE'}],\n",
       " 'next_page_token': None,\n",
       " 'total_size': 5}"
      ]
     },
     "execution_count": 20,
     "metadata": {},
     "output_type": "execute_result"
    }
   ],
   "source": [
    "authservice_session='authservice_session=MTYxMzc1NDU4MXxOd3dBTkZKWFJEWlRVMEpHUnpKT1RFMVlOa2MyVURWRVQwUkxNa2REUWpjelJGWlNNMGhLV0VsSk5VZFdSMEZXTWpVMVZFTkxVMEU9fI-9lqJWwao6cf2fWLz0HHdd2Pqqk_FtMgeJMPjDaPeT'\n",
    "client = kfp.Client(host='http://a8a635fce30784afb9986f2e5aec7888-657378971.us-west-2.elb.amazonaws.com/pipeline', cookies=authservice_session)\n",
    "client.list_experiments(namespace=\"admin\")"
   ]
  },
  {
   "cell_type": "code",
   "execution_count": 21,
   "metadata": {},
   "outputs": [],
   "source": [
    "model=\"resnet\""
   ]
  },
  {
   "cell_type": "code",
   "execution_count": 22,
   "metadata": {},
   "outputs": [],
   "source": [
    "# load components (note the components are not platform specific, but the importers are)\n",
    "data_prep_op = load_component_from_file(f\"data_prep_step/{model}/component.yaml\")\n",
    "train_model_op = load_component_from_file(f\"training_step/{model}/component.yaml\")\n",
    "list_item_op = load_component_from_file(\"file/component.yaml\")\n",
    "download_op = load_component_from_file(\"web/component.yaml\")\n",
    "model_archive_op = load_component_from_file(\"model_archive_step/component.yaml\")"
   ]
  },
  {
   "cell_type": "code",
   "execution_count": 23,
   "metadata": {},
   "outputs": [],
   "source": [
    "@dsl.pipeline(\n",
    "    name = \"pytorchcnn\"\n",
    ")\n",
    "def train_imagenet_cnn_pytorch(\n",
    "    ):\n",
    "        \n",
    "    # data_prep_task = data_prep_op(input_data = \"\")\n",
    "    # data_prep_task = data_prep_op(input_data = \"gs://cloud-ml-nas-public/classification/imagenet/train*\", vocab_file = \"bert_base_uncased_vocab.txt\", vocab_file_url = \"https://s3.amazonaws.com/models.huggingface.co/bert/bert-base-uncased-vocab.txt\")\n",
    "\n",
    "    # temp_input = \"gs://managed-pipeline-test-bugbash/20210130/pipeline_root/pavel/c14ec128-18d4-4980-b9f3-e1c6f4babb51/pytorchcnn-dj5sg-2878573190/output_data/prefix\"\n",
    "    #data_prep_task.outputs[\"output_data\"])\n",
    "\n",
    "    # train_model_task = (train_model_op(trainingdata = \"\").\n",
    "    #     set_cpu_limit('4').\n",
    "    #     set_memory_limit('14Gi')\n",
    "    # )    \n",
    "    # archive_prep_task = archive_prep_op(folder = train_model_task.outputs[\"modelcheckpoint\"], model_name = \"resnet\")\n",
    "\n",
    "    # train_model_task = (train_model_op(trainingdata = data_prep_task.outputs[\"output_data\"], maxepochs = 2, \n",
    "    #     numsamples = 150, \n",
    "    #     batchsize = 16,\n",
    "    #     numworkers = 2,\n",
    "    #     learningrate = 0.001,\n",
    "    #     accelerator = \"\")\n",
    "    #     .set_cpu_limit('4').\n",
    "    #     set_memory_limit('14Gi')\n",
    "    # )\n",
    "\n",
    "    download_task0 = download_op(url = \"https://download.pytorch.org/models/resnet18-5c106cde.pth\", input = \"\")\n",
    "    download_task1 = download_op(url = \"https://kubeflow-dataset.s3.us-east-2.amazonaws.com/properties.json\", input = \"\")\n",
    "    download_task2 = download_op(url = \"https://kubeflow-dataset.s3.us-east-2.amazonaws.com/index_to_name.json\", input = download_task1.outputs[\"output\"])\n",
    "#     download_task3 = download_op(url = \"https://kubeflow-dataset.s3.us-east-2.amazonaws.com/model.py\", input = download_task2.outputs[\"output\"])\n",
    "    list_item_task = list_item_op(directory = download_task0.outputs[\"output\"])\n",
    "\n",
    "    model_archive_task = model_archive_op(properties=download_task1.outputs[\"output\"], serializedfile = download_task0.outputs[\"output\"], extrafiles = download_task2.outputs[\"output\"])\n",
    "\n",
    "    list_item_task = list_item_op(directory = model_archive_task.outputs[\"output_directory\"])\n",
    "\n",
    "#     deploy_model_task = deploy_model_op(\n",
    "#         action = 'create',\n",
    "#         model_name='pytorch',\n",
    "#         default_model_uri='gs://kfserving-samples/models/pytorch/cifar10/',\n",
    "#         namespace='admin',\n",
    "#         framework='pytorch',\n",
    "#         default_custom_model_spec='{}',\n",
    "#         canary_custom_model_spec='{}',\n",
    "#         autoscaling_target='0',\n",
    "#         kfserving_endpoint=''\n",
    "#     )\n"
   ]
  },
  {
   "cell_type": "code",
   "execution_count": 24,
   "metadata": {},
   "outputs": [
    {
     "data": {
      "text/html": [
       "<a href=\"http://a8a635fce30784afb9986f2e5aec7888-657378971.us-west-2.elb.amazonaws.com/pipeline/#/runs/details/f2a585ef-c557-48f0-838f-143e5cc13b9e\" target=\"_blank\" >Run details</a>."
      ],
      "text/plain": [
       "<IPython.core.display.HTML object>"
      ]
     },
     "metadata": {},
     "output_type": "display_data"
    }
   ],
   "source": [
    "compiler.Compiler().compile(train_imagenet_cnn_pytorch, 'pytorch.tar.gz')\n",
    "# Execute pipeline\n",
    "run = client.run_pipeline(\"9b0390ee-a3cf-4070-afdf-1c1b7392cb8b\", 'pytorch-model', 'pytorch.tar.gz')"
   ]
  },
  {
   "cell_type": "code",
   "execution_count": null,
   "metadata": {},
   "outputs": [],
   "source": []
  },
  {
   "cell_type": "code",
   "execution_count": null,
   "metadata": {},
   "outputs": [],
   "source": []
  },
  {
   "cell_type": "code",
   "execution_count": null,
   "metadata": {},
   "outputs": [],
   "source": []
  }
 ],
 "metadata": {
  "kernelspec": {
   "display_name": "Python 3",
   "language": "python",
   "name": "python3"
  },
  "language_info": {
   "codemirror_mode": {
    "name": "ipython",
    "version": 3
   },
   "file_extension": ".py",
   "mimetype": "text/x-python",
   "name": "python",
   "nbconvert_exporter": "python",
   "pygments_lexer": "ipython3",
   "version": "3.6.9"
  }
 },
 "nbformat": 4,
 "nbformat_minor": 4
}
