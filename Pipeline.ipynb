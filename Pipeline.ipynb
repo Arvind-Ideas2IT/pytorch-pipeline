{
 "cells": [
  {
   "cell_type": "code",
   "execution_count": 373,
   "metadata": {},
   "outputs": [],
   "source": [
    "import kfp\n",
    "\n",
    "from kfp.components import load_component_from_file, load_component_from_url\n",
    "from kfp import dsl\n",
    "from kfp import compiler"
   ]
  },
  {
   "cell_type": "code",
   "execution_count": 374,
   "metadata": {},
   "outputs": [],
   "source": [
    "URL='http://your-load-balancer.elb.amazonaws.com'\n",
    "AUTH=\"authservice_session=<your token>\""
   ]
  },
  {
   "cell_type": "code",
   "execution_count": 375,
   "metadata": {},
   "outputs": [
    {
     "data": {
      "text/plain": [
       "{'created_at': datetime.datetime(2021, 2, 22, 10, 16, 13, tzinfo=tzlocal()),\n",
       " 'description': None,\n",
       " 'id': 'bc05a15c-5ac6-4cdf-935b-7a6451089d2c',\n",
       " 'name': 'sample',\n",
       " 'resource_references': [{'key': {'id': 'admin', 'type': 'NAMESPACE'},\n",
       "                          'name': None,\n",
       "                          'relationship': 'OWNER'}],\n",
       " 'storage_state': 'STORAGESTATE_AVAILABLE'}"
      ]
     },
     "execution_count": 375,
     "metadata": {},
     "output_type": "execute_result"
    }
   ],
   "source": [
    "client = kfp.Client(host=URL+\"/pipeline\", cookies=AUTH)\n",
    "experiments = client.list_experiments(namespace=\"admin\")\n",
    "my_experiment = experiments.experiments[0]\n",
    "my_experiment"
   ]
  },
  {
   "cell_type": "code",
   "execution_count": 376,
   "metadata": {},
   "outputs": [],
   "source": [
    "# load components (note the components are not platform specific, but the importers are)\n",
    "# data_prep_op = load_component_from_file(f\"data_prep_step/{model}/component.yaml\")\n",
    "# train_model_op = load_component_from_file(f\"training_step/{model}/component.yaml\")\n",
    "list_item_op = load_component_from_file(\"file/component.yaml\")\n",
    "download_op = load_component_from_file(\"web/component.yaml\")\n",
    "model_archive_op = load_component_from_file(\"model_archive_step/component.yaml\")\n",
    "deploy_op = load_component_from_url(\"https://raw.githubusercontent.com/kubeflow/pipelines/97eae83a96b0ac87805e2d6db6097e479bb38b1f/components/kubeflow/kfserving/component.yaml\")"
   ]
  },
  {
   "cell_type": "markdown",
   "metadata": {},
   "source": [
    "# Using dsl for model archiver and torchserve integration"
   ]
  },
  {
   "cell_type": "code",
   "execution_count": 412,
   "metadata": {},
   "outputs": [],
   "source": [
    "@dsl.pipeline(\n",
    "    name='pytorch',\n",
    "    description='hello world'\n",
    ")\n",
    "def train_imagenet_pytorch(\n",
    "    input_directory: str = \"/pv/input\",\n",
    "    output_directory: str = \"/pv/outputs\",\n",
    "    handlerFile: str = \"image_classifier\"\n",
    "):\n",
    "    vop = dsl.VolumeOp(\n",
    "        name=\"newpvc\",\n",
    "        resource_name=\"newpvc\",\n",
    "        modes=dsl.VOLUME_MODE_RWO,\n",
    "        size=\"1Gi\"\n",
    "    )\n",
    "\n",
    "    @dsl.component\n",
    "    def download(url: str, output_path:str):\n",
    "        return dsl.ContainerOp(\n",
    "            name='Download',\n",
    "            image='busybox:latest',\n",
    "            command=[\"sh\", \"-c\"],\n",
    "            arguments=[\"mkdir -p %s; wget %s -P %s\" % (output_path, url, output_path)],\n",
    "        )\n",
    "\n",
    "    # Using mutiple downloads as wget cannot download folder from s3\n",
    "    properties = download(url='https://kubeflow-dataset.s3.us-east-2.amazonaws.com/model_archive/properties.json', output_path=\"/pv/input\").add_pvolumes({\"/pv\":vop.volume}).after(vop)\n",
    "    model = download(url='https://raw.githubusercontent.com/pytorch/serve/master/examples/image_classifier/mnist/mnist.py', output_path=\"/pv/input\").add_pvolumes({\"/pv\":vop.volume}).after(properties)\n",
    "    serialized = download(url='https://raw.githubusercontent.com/pytorch/serve/master/examples/image_classifier/mnist/mnist_cnn.pt', output_path=\"/pv/input\").add_pvolumes({\"/pv\":vop.volume}).after(model)\n",
    "    handler = download(url='https://raw.githubusercontent.com/pytorch/serve/master/examples/image_classifier/mnist/mnist_handler.py', output_path=\"/pv/input\").add_pvolumes({\"/pv\":vop.volume}).after(serialized)\n",
    "           \n",
    "    op_task = dsl.ContainerOp(\n",
    "        name='main',\n",
    "        image=\"quay.io/aipipeline/kfserving-component:v0.5.0\",\n",
    "        command=['python'],\n",
    "        arguments=[\n",
    "          \"-u\", \"kfservingdeployer.py\",\n",
    "          \"--action\", \"apply\",\n",
    "          \"--model-name\", \"torchserve\",\n",
    "          \"--model-uri\", \"pvc://{{workflow.name}}-newpvc/outputs\",\n",
    "          \"--namespace\", \"admin\",\n",
    "          \"--framework\", \"pytorch\",\n",
    "        ],\n",
    "        pvolumes={\"/pv\": vop.volume},\n",
    "        # pass in init_container list\n",
    "        init_containers=[\n",
    "            dsl.UserContainer(\n",
    "                name='init',\n",
    "                image='jagadeeshj/model_archive_step:kfpv1.0',\n",
    "                command=[\"/usr/local/bin/dockerd-entrypoint.sh\"],\n",
    "                args=[\n",
    "                    \"--output_path\", output_directory,\n",
    "                    \"--input_path\", input_directory,\n",
    "                    \"--handlerfile\", handlerFile\n",
    "                ],\n",
    "                mirror_volume_mounts=True,),\n",
    "        ],\n",
    "    ).after(handler)\n",
    "\n",
    "#     deploy = deploy_op(\n",
    "#         action=\"create\", \n",
    "#         model_name=\"torchserve\", \n",
    "#         model_uri=\"pvc://{{workflow.name}}-newpvc/outputs\", \n",
    "#         namespace='admin',\n",
    "#         framework='pytorch'\n",
    "#     ).after(op_task)\n"
   ]
  },
  {
   "cell_type": "code",
   "execution_count": 413,
   "metadata": {},
   "outputs": [],
   "source": [
    "# Compile pipeline\n",
    "compiler.Compiler().compile(train_imagenet_pytorch, 'pytorch.tar.gz', type_check=True)"
   ]
  },
  {
   "cell_type": "code",
   "execution_count": 414,
   "metadata": {},
   "outputs": [
    {
     "data": {
      "text/html": [
       "Run link <a href=\"http://ad7fc227388c3431f9c778285d481334-127942271.us-west-2.elb.amazonaws.com/pipeline/#/runs/details/d6f36464-9642-48d4-b733-b8e503894a33\" target=\"_blank\" >here</a>"
      ],
      "text/plain": [
       "<IPython.core.display.HTML object>"
      ]
     },
     "metadata": {},
     "output_type": "display_data"
    }
   ],
   "source": [
    "# Execute pipeline\n",
    "run = client.run_pipeline(my_experiment.id, 'pytorch-model', 'pytorch.tar.gz')"
   ]
  },
  {
   "cell_type": "markdown",
   "metadata": {},
   "source": [
    "### Wait for inference service below to go to `READY True` state."
   ]
  },
  {
   "cell_type": "code",
   "execution_count": 421,
   "metadata": {},
   "outputs": [],
   "source": [
    "DEPLOY='torchserve'\n",
    "MODEL='mnist'"
   ]
  },
  {
   "cell_type": "code",
   "execution_count": 422,
   "metadata": {},
   "outputs": [
    {
     "name": "stdout",
     "output_type": "stream",
     "text": [
      "NAME         URL                                   READY   PREV   LATEST   PREVROLLEDOUTREVISION   LATESTREADYREVISION                  AGE\n",
      "torchserve   http://torchserve.admin.example.com   True           100                              torchserve-predictor-default-gvkhf   51s\n"
     ]
    }
   ],
   "source": [
    "!kubectl get isvc $DEPLOY"
   ]
  },
  {
   "cell_type": "markdown",
   "metadata": {},
   "source": [
    "# Inference"
   ]
  },
  {
   "cell_type": "code",
   "execution_count": 417,
   "metadata": {},
   "outputs": [
    {
     "name": "stdout",
     "output_type": "stream",
     "text": [
      "torchserve.admin.example.com\n"
     ]
    }
   ],
   "source": [
    "!kubectl get isvc $DEPLOY -o jsonpath='{.items[0].status.url}' | cut -d \"/\" -f 3"
   ]
  },
  {
   "cell_type": "code",
   "execution_count": 418,
   "metadata": {},
   "outputs": [
    {
     "data": {
      "text/plain": [
       "'torchserve.admin.example.com'"
      ]
     },
     "execution_count": 418,
     "metadata": {},
     "output_type": "execute_result"
    }
   ],
   "source": [
    "S_HOSTNAME=!kubectl get isvc $DEPLOY  -o jsonpath='{.items[0].status.url}' | cut -d \"/\" -f 3\n",
    "SERVICE_HOSTNAME=S_HOSTNAME[0]\n",
    "SERVICE_HOSTNAME"
   ]
  },
  {
   "cell_type": "code",
   "execution_count": 423,
   "metadata": {},
   "outputs": [],
   "source": [
    "#!curl -v -H \"Host: $SERVICE_HOSTNAME\" -H \"Cookie: $AUTH\" \"$URL/v1/models/$MODEL:predict\" -d @./mnist.json"
   ]
  },
  {
   "cell_type": "markdown",
   "metadata": {},
   "source": [
    "# Explain"
   ]
  },
  {
   "cell_type": "code",
   "execution_count": 424,
   "metadata": {},
   "outputs": [],
   "source": [
    "#!curl -v -H \"Host: $SERVICE_HOSTNAME\" -H \"Cookie: $AUTH\" \"$URL/v1/models/$MODEL:explain\" -d @./mnist.json"
   ]
  },
  {
   "cell_type": "code",
   "execution_count": null,
   "metadata": {},
   "outputs": [],
   "source": []
  }
 ],
 "metadata": {
  "kernelspec": {
   "display_name": "Python 3",
   "language": "python",
   "name": "python3"
  },
  "language_info": {
   "codemirror_mode": {
    "name": "ipython",
    "version": 3
   },
   "file_extension": ".py",
   "mimetype": "text/x-python",
   "name": "python",
   "nbconvert_exporter": "python",
   "pygments_lexer": "ipython3",
   "version": "3.6.9"
  }
 },
 "nbformat": 4,
 "nbformat_minor": 4
}
